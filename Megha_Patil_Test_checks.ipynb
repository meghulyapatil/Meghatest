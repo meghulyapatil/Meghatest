{
 "cells": [
  {
   "cell_type": "code",
   "execution_count": 0,
   "metadata": {
    "application/vnd.databricks.v1+cell": {
     "cellMetadata": {
      "byteLimit": 2048000,
      "rowLimit": 10000
     },
     "inputWidgets": {},
     "nuid": "ec37e189-3371-4290-b9e7-6d586487b240",
     "showTitle": false,
     "title": ""
    }
   },
   "outputs": [],
   "source": [
    "a=[6,3,8,'hi',76,'exam']\n",
    "b=['First',65,78]\n",
    "c=a+b\n",
    "print(c)"
   ]
  },
  {
   "cell_type": "code",
   "execution_count": 0,
   "metadata": {
    "application/vnd.databricks.v1+cell": {
     "cellMetadata": {},
     "inputWidgets": {},
     "nuid": "c23536d2-23af-44c5-a255-a1a820fb18a5",
     "showTitle": false,
     "title": ""
    }
   },
   "outputs": [],
   "source": [
    "import pandas as pd\n",
    "\n",
    "data = {'Product': ['A', 'B', 'C', 'D', 'E','F'],\n",
    "         'Quality': [3, 4, 1, 6, 3,8],\n",
    "        'Price':[34000,3244,5645,7587,7858,4572]    \n",
    "        }\n",
    "\n",
    "df = pd.DataFrame(data)\n",
    "df"
   ]
  },
  {
   "cell_type": "code",
   "execution_count": 0,
   "metadata": {
    "application/vnd.databricks.v1+cell": {
     "cellMetadata": {},
     "inputWidgets": {},
     "nuid": "478e59d5-81f9-4487-869a-a75cb8fdaa20",
     "showTitle": false,
     "title": ""
    },
    "collapsed": true
   },
   "outputs": [],
   "source": [
    "def binary_fun(x):\n",
    "    if x<=5:\n",
    "        return 0\n",
    "    else:\n",
    "        return 1\n",
    "    "
   ]
  },
  {
   "cell_type": "code",
   "execution_count": 0,
   "metadata": {
    "application/vnd.databricks.v1+cell": {
     "cellMetadata": {},
     "inputWidgets": {},
     "nuid": "cc4b158e-f28f-471d-82e1-709687eb8c98",
     "showTitle": false,
     "title": ""
    }
   },
   "outputs": [],
   "source": [
    "df1=df\n",
    "df1"
   ]
  },
  {
   "cell_type": "code",
   "execution_count": 0,
   "metadata": {
    "application/vnd.databricks.v1+cell": {
     "cellMetadata": {},
     "inputWidgets": {},
     "nuid": "8e364e1b-57e4-413a-ac77-21322472e8d5",
     "showTitle": false,
     "title": ""
    }
   },
   "outputs": [],
   "source": [
    "df1['Quality']=df1['Quality'].apply(binary_fun)\n",
    "df1"
   ]
  },
  {
   "cell_type": "code",
   "execution_count": 0,
   "metadata": {
    "application/vnd.databricks.v1+cell": {
     "cellMetadata": {},
     "inputWidgets": {},
     "nuid": "1a84fe2c-6be1-45b1-8275-021f2953e374",
     "showTitle": false,
     "title": ""
    }
   },
   "outputs": [],
   "source": [
    "##alternate way\n",
    "import pandas as pd\n",
    "\n",
    "data = {'Product': ['A', 'B', 'C', 'D', 'E','F'],\n",
    "         'Quality': [3, 4, 1, 6, 3,8],\n",
    "        'Price':[34000,3244,5645,7587,7858,4572]    \n",
    "        }\n",
    "\n",
    "df = pd.DataFrame(data)\n",
    "df2=df\n",
    "df2['Quality']=df2.apply(lambda x:binary_fun(x['Quality']),axis=1)\n",
    "df2"
   ]
  },
  {
   "cell_type": "code",
   "execution_count": 0,
   "metadata": {
    "application/vnd.databricks.v1+cell": {
     "cellMetadata": {},
     "inputWidgets": {},
     "nuid": "45ff311a-67c3-4b73-bc5a-a6c96eb30f89",
     "showTitle": false,
     "title": ""
    },
    "collapsed": true
   },
   "outputs": [],
   "source": [
    "##Case study 2"
   ]
  },
  {
   "cell_type": "code",
   "execution_count": 0,
   "metadata": {
    "application/vnd.databricks.v1+cell": {
     "cellMetadata": {},
     "inputWidgets": {},
     "nuid": "24edf78f-3cc2-4610-a8d1-e285a4f43f7a",
     "showTitle": false,
     "title": ""
    },
    "collapsed": true
   },
   "outputs": [],
   "source": [
    "##customer profiling user K means cluster Analysis"
   ]
  },
  {
   "cell_type": "code",
   "execution_count": 0,
   "metadata": {
    "application/vnd.databricks.v1+cell": {
     "cellMetadata": {},
     "inputWidgets": {},
     "nuid": "0521877c-6162-4f64-b3a0-ea0af47546bf",
     "showTitle": false,
     "title": ""
    }
   },
   "outputs": [],
   "source": [
    "## Required libraries\n",
    "import numpy as np\n",
    "import pandas as pd\n",
    "import statsmodels.api as sm\n",
    "import matplotlib.pyplot as plt\n",
    "import seaborn as sns\n",
    "sns.set()\n",
    "from sklearn.cluster import KMeans"
   ]
  },
  {
   "cell_type": "code",
   "execution_count": 0,
   "metadata": {
    "application/vnd.databricks.v1+cell": {
     "cellMetadata": {},
     "inputWidgets": {},
     "nuid": "2c7d16d8-0000-4218-be2d-5a6448091efc",
     "showTitle": false,
     "title": ""
    }
   },
   "outputs": [],
   "source": [
    "##Data loading\n",
    "data = pd.read_csv('Merchant_Users_data.csv')\n",
    "data.head()"
   ]
  },
  {
   "cell_type": "code",
   "execution_count": 0,
   "metadata": {
    "application/vnd.databricks.v1+cell": {
     "cellMetadata": {},
     "inputWidgets": {},
     "nuid": "6a6f6d2c-5971-4f46-80cc-212e8f3c1b5e",
     "showTitle": false,
     "title": ""
    }
   },
   "outputs": [],
   "source": [
    "##EDA\n",
    "#Summary of data\n",
    "data1=data[['userID','spend','transactions']]\n",
    "data1.head()"
   ]
  },
  {
   "cell_type": "code",
   "execution_count": 0,
   "metadata": {
    "application/vnd.databricks.v1+cell": {
     "cellMetadata": {},
     "inputWidgets": {},
     "nuid": "d98b378c-6c94-45be-8c3e-17d352badb5c",
     "showTitle": false,
     "title": ""
    }
   },
   "outputs": [],
   "source": [
    "##Summary of data\n",
    "data1.describe().transpose()"
   ]
  },
  {
   "cell_type": "code",
   "execution_count": 0,
   "metadata": {
    "application/vnd.databricks.v1+cell": {
     "cellMetadata": {},
     "inputWidgets": {},
     "nuid": "c2eba825-139e-406b-a7e2-052d8d9b9014",
     "showTitle": false,
     "title": ""
    },
    "collapsed": true
   },
   "outputs": [],
   "source": [
    "##The dataset consists of 1852 rows. The average amount spend by customer is 468 and the average transactios is 12."
   ]
  },
  {
   "cell_type": "code",
   "execution_count": 0,
   "metadata": {
    "application/vnd.databricks.v1+cell": {
     "cellMetadata": {},
     "inputWidgets": {},
     "nuid": "3102ee3e-2b62-438e-94b4-3e963a5ad661",
     "showTitle": false,
     "title": ""
    }
   },
   "outputs": [],
   "source": [
    "##scattter plot\n",
    "data3=data[['spend','transactions']]\n",
    "plt.scatter(data3['spend'],data3['transactions'])\n",
    "plt.xlim(1,12000)\n",
    "plt.ylim(1,700)\n",
    "plt.xlabel('Spend')\n",
    "plt.ylabel('transaction')\n",
    "plt.show()"
   ]
  },
  {
   "cell_type": "code",
   "execution_count": 0,
   "metadata": {
    "application/vnd.databricks.v1+cell": {
     "cellMetadata": {},
     "inputWidgets": {},
     "nuid": "0e565983-a0fd-4efb-a391-dc2095bf582a",
     "showTitle": false,
     "title": ""
    },
    "collapsed": true
   },
   "outputs": [],
   "source": [
    "#Most of the users has spend less than 2000 amount on 60-70 transactions\n",
    "#There are very few users who has spend more than 8000 on 60-70 transaction"
   ]
  },
  {
   "cell_type": "code",
   "execution_count": 0,
   "metadata": {
    "application/vnd.databricks.v1+cell": {
     "cellMetadata": {},
     "inputWidgets": {},
     "nuid": "580748d2-9f86-4061-bfda-6ef531de8c14",
     "showTitle": false,
     "title": ""
    }
   },
   "outputs": [],
   "source": [
    "##Find correct no of clusters\n",
    "wcss=[]\n",
    "for i in range(1,10):\n",
    "    kmeans = KMeans(i)\n",
    "    kmeans.fit(data3)\n",
    "    wcss_iter = kmeans.inertia_\n",
    "    wcss.append(wcss_iter)"
   ]
  },
  {
   "cell_type": "code",
   "execution_count": 0,
   "metadata": {
    "application/vnd.databricks.v1+cell": {
     "cellMetadata": {},
     "inputWidgets": {},
     "nuid": "fde32342-6046-4076-ba08-b45fd210594e",
     "showTitle": false,
     "title": ""
    },
    "scrolled": true
   },
   "outputs": [],
   "source": [
    "number_clusters = range(1,10)\n",
    "plt.plot(number_clusters,wcss)\n",
    "plt.title('The Elbow title')\n",
    "plt.xlabel('Number of clusters')\n",
    "plt.ylabel('WCSS')\n",
    "plt.show()"
   ]
  },
  {
   "cell_type": "code",
   "execution_count": 0,
   "metadata": {
    "application/vnd.databricks.v1+cell": {
     "cellMetadata": {},
     "inputWidgets": {},
     "nuid": "24e5be99-9cdb-48d9-9f7b-2424bd53d617",
     "showTitle": false,
     "title": ""
    },
    "collapsed": true
   },
   "outputs": [],
   "source": [
    "#we can chose 4 or 5 as after 4 WCSS is less"
   ]
  },
  {
   "cell_type": "code",
   "execution_count": 0,
   "metadata": {
    "application/vnd.databricks.v1+cell": {
     "cellMetadata": {},
     "inputWidgets": {},
     "nuid": "03c8d721-311c-4d55-800f-b857930753ea",
     "showTitle": false,
     "title": ""
    }
   },
   "outputs": [],
   "source": [
    "##Let us try both the number of clusters and visualize the clusters to decide on the final number of clusters"
   ]
  },
  {
   "cell_type": "code",
   "execution_count": 0,
   "metadata": {
    "application/vnd.databricks.v1+cell": {
     "cellMetadata": {},
     "inputWidgets": {},
     "nuid": "6d393358-1ef1-4744-b691-b7a477bfa306",
     "showTitle": false,
     "title": ""
    }
   },
   "outputs": [],
   "source": [
    "## Number of clusters=4\n",
    "kmeans_4=KMeans(n_clusters=4,init='k-means++', max_iter=300, n_init=10, random_state=0)\n",
    "identified_clusters_4 = kmeans_4.fit_predict(data3)\n",
    "data_with_clusters = data3.copy()\n",
    "data_with_clusters['Clusters'] = identified_clusters_4\n",
    "X=data_with_clusters.copy()\n",
    "#Visualizing the clusters for k=4\n",
    "plt.scatter(X[X.Clusters==0].spend,X[X.Clusters==0].transactions,s=50, c='purple',label='Cluster1')\n",
    "plt.scatter(X[X.Clusters==1].spend,X[X.Clusters==1].transactions,s=50, c='blue',label='Cluster2')\n",
    "plt.scatter(X[X.Clusters==2].spend,X[X.Clusters==2].transactions,s=50, c='green',label='Cluster3')\n",
    "plt.scatter(X[X.Clusters==3].spend,X[X.Clusters==3].transactions,s=50, c='cyan',label='Cluster4')\n",
    "plt.scatter(kmeans_4.cluster_centers_[:,0], kmeans_4.cluster_centers_[:,1],s=100,marker='s', c='black', alpha=0.7, label='Centroids')\n",
    "plt.title('Customer segments')\n",
    "plt.xlabel('spend of customer')\n",
    "plt.ylabel('transaction from customer on site')\n",
    "plt.legend()\n",
    "plt.show()"
   ]
  },
  {
   "cell_type": "code",
   "execution_count": 0,
   "metadata": {
    "application/vnd.databricks.v1+cell": {
     "cellMetadata": {},
     "inputWidgets": {},
     "nuid": "3a946f90-23c5-424f-b560-3b332a240b07",
     "showTitle": false,
     "title": ""
    }
   },
   "outputs": [],
   "source": [
    "## Number of clusters=5\n",
    "kmeans_5=KMeans(n_clusters=5,init='k-means++', max_iter=300, n_init=10, random_state=0)\n",
    "identified_clusters_5 = kmeans_5.fit_predict(data3)\n",
    "data_with_clusters_5 = data3.copy()\n",
    "data_with_clusters_5['Clusters'] = identified_clusters_5\n",
    "X=data_with_clusters_5.copy()\n",
    "#Visualizing the clusters for k=4\n",
    "plt.scatter(X[X.Clusters==0].spend,X[X.Clusters==0].transactions,s=50, c='purple',label='Cluster1')\n",
    "plt.scatter(X[X.Clusters==1].spend,X[X.Clusters==1].transactions,s=50, c='blue',label='Cluster2')\n",
    "plt.scatter(X[X.Clusters==2].spend,X[X.Clusters==2].transactions,s=50, c='green',label='Cluster3')\n",
    "plt.scatter(X[X.Clusters==3].spend,X[X.Clusters==3].transactions,s=50, c='cyan',label='Cluster4')\n",
    "plt.scatter(X[X.Clusters==4].spend,X[X.Clusters==4].transactions,s=50, c='red',label='Cluster5')\n",
    "plt.scatter(kmeans_5.cluster_centers_[:,0], kmeans_5.cluster_centers_[:,1],s=100,marker='s', c='black', alpha=0.7, label='Centroids')\n",
    "plt.title('Customer segments')\n",
    "plt.xlabel('spend of customer')\n",
    "plt.ylabel('transaction from customer on site')\n",
    "plt.legend()\n",
    "plt.show()"
   ]
  },
  {
   "cell_type": "code",
   "execution_count": 0,
   "metadata": {
    "application/vnd.databricks.v1+cell": {
     "cellMetadata": {},
     "inputWidgets": {},
     "nuid": "73b2b720-7adb-41f7-a482-14b91c6a97f6",
     "showTitle": false,
     "title": ""
    },
    "collapsed": true
   },
   "outputs": [],
   "source": [
    "##If we use K=4 then we can see more clear grouping than if we use k=5"
   ]
  },
  {
   "cell_type": "code",
   "execution_count": 0,
   "metadata": {
    "application/vnd.databricks.v1+cell": {
     "cellMetadata": {},
     "inputWidgets": {},
     "nuid": "7e84415f-223c-4694-9423-91e7d2928703",
     "showTitle": false,
     "title": ""
    }
   },
   "outputs": [],
   "source": [
    "#Lets find what kind of userid are clubbed together\n",
    "merch_data = pd.read_csv('Merchant_data.csv')\n",
    "merch_data['merchant']=merch_data['Merchant']\n",
    "data_with_clusters_44=data.copy()\n",
    "data_with_clusters_44['Clusters'] = identified_clusters_4\n",
    "final_data_5=pd.merge(data_with_clusters_44,merch_data,on=['merchant'])\n",
    "\n",
    "cluster1=final_data_5[final_data_5.Clusters==0]\n",
    "cluster2=final_data_5[final_data_5.Clusters==1]\n",
    "cluster3=final_data_5[final_data_5.Clusters==2]\n",
    "cluster4=final_data_5[final_data_5.Clusters==3]"
   ]
  },
  {
   "cell_type": "code",
   "execution_count": 0,
   "metadata": {
    "application/vnd.databricks.v1+cell": {
     "cellMetadata": {},
     "inputWidgets": {},
     "nuid": "93b428ae-bb39-4741-9855-8e77c46cae1e",
     "showTitle": false,
     "title": ""
    },
    "collapsed": true
   },
   "outputs": [],
   "source": []
  },
  {
   "cell_type": "code",
   "execution_count": 0,
   "metadata": {
    "application/vnd.databricks.v1+cell": {
     "cellMetadata": {},
     "inputWidgets": {},
     "nuid": "df37ceac-902a-4606-bf01-39ba7f03321a",
     "showTitle": false,
     "title": ""
    },
    "collapsed": true
   },
   "outputs": [],
   "source": []
  },
  {
   "cell_type": "code",
   "execution_count": 0,
   "metadata": {
    "application/vnd.databricks.v1+cell": {
     "cellMetadata": {},
     "inputWidgets": {},
     "nuid": "e6ef0d4b-4430-4a50-864f-c24b809669fd",
     "showTitle": false,
     "title": ""
    },
    "collapsed": true
   },
   "outputs": [],
   "source": []
  },
  {
   "cell_type": "code",
   "execution_count": 0,
   "metadata": {
    "application/vnd.databricks.v1+cell": {
     "cellMetadata": {},
     "inputWidgets": {},
     "nuid": "a9605cc9-614f-4e4d-9b3d-3634fe62a2ee",
     "showTitle": false,
     "title": ""
    },
    "collapsed": true
   },
   "outputs": [],
   "source": [
    "##Case study 3-find out whether customer churn or not-classification"
   ]
  },
  {
   "cell_type": "code",
   "execution_count": 0,
   "metadata": {
    "application/vnd.databricks.v1+cell": {
     "cellMetadata": {},
     "inputWidgets": {},
     "nuid": "31914b1f-c817-48cc-830d-2b374dd0a6e0",
     "showTitle": false,
     "title": ""
    },
    "collapsed": true
   },
   "outputs": [],
   "source": [
    "##Logistc Regression\n",
    "\n",
    "from sklearn.linear_model import LogisticRegression"
   ]
  },
  {
   "cell_type": "code",
   "execution_count": 0,
   "metadata": {
    "application/vnd.databricks.v1+cell": {
     "cellMetadata": {},
     "inputWidgets": {},
     "nuid": "11e0a802-e1f2-43c8-ab14-77e012669400",
     "showTitle": false,
     "title": ""
    }
   },
   "outputs": [],
   "source": [
    "customer_churn = pd.read_csv('customer_chrun.csv')\n",
    "customer_churn.head()\n",
    "print('Number of rows: ', customer_churn.shape[0])\n",
    "print(\"Number of Columns:\", customer_churn.shape[1])\n",
    "print(customer_churn.columns.tolist())\n",
    "print(\"\\nMissing values:\", customer_churn.isnull().sum().values.sum())\n",
    "print(\"\\nUnique values:\")\n",
    "print(customer_churn.nunique())"
   ]
  },
  {
   "cell_type": "code",
   "execution_count": 0,
   "metadata": {
    "application/vnd.databricks.v1+cell": {
     "cellMetadata": {},
     "inputWidgets": {},
     "nuid": "ea151d69-9d3e-4eae-9484-e3435cf11c3d",
     "showTitle": false,
     "title": ""
    },
    "collapsed": true
   },
   "outputs": [],
   "source": [
    "\n",
    "##there are 7043 rows and 21 columns in the dara set.\n",
    "##There are 17 categorical features such as Gneder, Seniorcitizen, Partner, etc. and Target variable Churn: Whether the customer churned or not\n",
    "\n",
    "##there are 3 numerical features:Tenure:MonthlyCharges: TotalCharges:\n"
   ]
  },
  {
   "cell_type": "code",
   "execution_count": 0,
   "metadata": {
    "application/vnd.databricks.v1+cell": {
     "cellMetadata": {},
     "inputWidgets": {},
     "nuid": "63da9bc1-1acc-4580-99ad-0e5455be5f26",
     "showTitle": false,
     "title": ""
    }
   },
   "outputs": [],
   "source": [
    "### Lets check what is the dirtibution of Target varaible\n",
    "Churn = customer_churn['Churn'].tolist()\n",
    "Churn_no = Churn.count('No')\n",
    "Churn_yes = Churn.count(\"Yes\")\n",
    "labels = 'Churn(No)', 'chrun(Yes)'\n",
    "sizes = [Churn_no, Churn_yes]\n",
    "colors = ( \"Green\", \"Red\") \n",
    "\n",
    "# explode = (0, 0)\n",
    "fig1, ax1 = plt.subplots()\n",
    "ax1.pie(sizes, labels=labels,autopct='%1.1f%%',colors=colors)\n",
    "plt.show()"
   ]
  },
  {
   "cell_type": "code",
   "execution_count": 0,
   "metadata": {
    "application/vnd.databricks.v1+cell": {
     "cellMetadata": {},
     "inputWidgets": {},
     "nuid": "7f657c0d-1029-477e-b524-1abe6b3f622b",
     "showTitle": false,
     "title": ""
    }
   },
   "outputs": [],
   "source": [
    "### Lets check what is the dirtibution of Target varaible\n",
    "##We have to predict users will leave the company or not. It’s a binary classification problem with an unbalanced target.\n",
    "##Churn: No – 73.5%\n",
    "##Churn: Yes – 26.5%"
   ]
  },
  {
   "cell_type": "code",
   "execution_count": 0,
   "metadata": {
    "application/vnd.databricks.v1+cell": {
     "cellMetadata": {},
     "inputWidgets": {},
     "nuid": "b0ae3db6-18f0-4def-b9c4-0399085f0c56",
     "showTitle": false,
     "title": ""
    },
    "collapsed": true
   },
   "outputs": [],
   "source": []
  },
  {
   "cell_type": "code",
   "execution_count": 0,
   "metadata": {
    "application/vnd.databricks.v1+cell": {
     "cellMetadata": {},
     "inputWidgets": {},
     "nuid": "198bad43-1758-42b8-94a3-e6be3c7d9130",
     "showTitle": false,
     "title": ""
    },
    "collapsed": true
   },
   "outputs": [],
   "source": []
  },
  {
   "cell_type": "code",
   "execution_count": 0,
   "metadata": {
    "application/vnd.databricks.v1+cell": {
     "cellMetadata": {},
     "inputWidgets": {},
     "nuid": "c02841ac-9ec6-46fc-9d17-3bc4c577fe40",
     "showTitle": false,
     "title": ""
    },
    "collapsed": true
   },
   "outputs": [],
   "source": [
    "##Demographic analysis-SeniorCitizen, Gender, Partner, Depentent"
   ]
  },
  {
   "cell_type": "code",
   "execution_count": 0,
   "metadata": {
    "application/vnd.databricks.v1+cell": {
     "cellMetadata": {},
     "inputWidgets": {},
     "nuid": "fc7286cb-50ed-43be-a772-0632e7b65728",
     "showTitle": false,
     "title": ""
    }
   },
   "outputs": [],
   "source": [
    "gender_chrun = customer_churn.groupby(['gender', 'Churn']).size().reset_index()\n",
    "customer_churn.loc[customer_churn.SeniorCitizen==0,'SeniorCitizen'] = \"No\"\n",
    "customer_churn.loc[customer_churn.SeniorCitizen==1,'SeniorCitizen'] = \"Yes\"\n",
    "seniorcitizen_chrun = customer_churn.groupby(['SeniorCitizen', 'Churn']).size().reset_index()\n",
    "seniorcitizen_chrun\n",
    "Partner_chrun = customer_churn.groupby(['Partner', 'Churn']).size().reset_index()\n",
    "Dependents_chrun = customer_churn.groupby(['Dependents', 'Churn']).size().reset_index()\n",
    "seniorcitizen_chrun\n",
    "##There is higher proportion of churn in younger customers than SeniorCitizen"
   ]
  },
  {
   "cell_type": "code",
   "execution_count": 0,
   "metadata": {
    "application/vnd.databricks.v1+cell": {
     "cellMetadata": {},
     "inputWidgets": {},
     "nuid": "d279fc91-3c70-4dd9-a84c-2090b3d6748d",
     "showTitle": false,
     "title": ""
    }
   },
   "outputs": [],
   "source": [
    "Partner_chrun\n",
    "##There is higher proportion of churn in younger customers than SeniorCitizen"
   ]
  },
  {
   "cell_type": "code",
   "execution_count": 0,
   "metadata": {
    "application/vnd.databricks.v1+cell": {
     "cellMetadata": {},
     "inputWidgets": {},
     "nuid": "6841c529-8c8e-4bd5-af02-142f43cd8500",
     "showTitle": false,
     "title": ""
    }
   },
   "outputs": [],
   "source": [
    "Dependents_chrun\n",
    "##There is higher proportion of churn in younger customers than SeniorCitizen"
   ]
  },
  {
   "cell_type": "code",
   "execution_count": 0,
   "metadata": {
    "application/vnd.databricks.v1+cell": {
     "cellMetadata": {},
     "inputWidgets": {},
     "nuid": "f86a1f6d-449d-428f-995d-ca54d600ea69",
     "showTitle": false,
     "title": ""
    }
   },
   "outputs": [],
   "source": [
    "gender_chrun\n",
    "####The difference in churn is slightly more in females, but the small difference can be ignored"
   ]
  },
  {
   "cell_type": "code",
   "execution_count": 0,
   "metadata": {
    "application/vnd.databricks.v1+cell": {
     "cellMetadata": {},
     "inputWidgets": {},
     "nuid": "81f71133-1179-4b8f-9382-e24e63f2b9ee",
     "showTitle": false,
     "title": ""
    }
   },
   "outputs": [],
   "source": [
    "##We can use bar digram\n",
    "# n_groups = 2\n",
    "# female= (2549, 939)\n",
    "# male = (2625, 939)\n",
    "\n",
    "# # create plot\n",
    "# fig, ax = plt.subplots()\n",
    "# index = np.arange(n_groups)\n",
    "# bar_width = 0.35\n",
    "# opacity = 0.8\n",
    "\n",
    "# rects1 = plt.bar(index, female, male,alpha=opacity,color='Red',label='Female')\n",
    "\n",
    "# rects2 = plt.bar(index + bar_width, male, bar_width,alpha=opacity,color='green',label='Male')\n",
    "\n",
    "# plt.xlabel('Person')\n",
    "# plt.ylabel('Scores')\n",
    "# plt.title('Scores by person')\n",
    "# plt.xticks(index + bar_width, ('A', 'B', 'C', 'D'))\n",
    "# plt.legend()\n",
    "\n",
    "# plt.tight_layout()\n",
    "# plt.show()"
   ]
  },
  {
   "cell_type": "code",
   "execution_count": 0,
   "metadata": {
    "application/vnd.databricks.v1+cell": {
     "cellMetadata": {},
     "inputWidgets": {},
     "nuid": "f594bd52-c791-429b-a064-5d2a09c91a05",
     "showTitle": false,
     "title": ""
    },
    "collapsed": true
   },
   "outputs": [],
   "source": []
  },
  {
   "cell_type": "code",
   "execution_count": 0,
   "metadata": {
    "application/vnd.databricks.v1+cell": {
     "cellMetadata": {},
     "inputWidgets": {},
     "nuid": "e7589369-25cd-4cbb-a405-77d1aec742a1",
     "showTitle": false,
     "title": ""
    },
    "collapsed": true
   },
   "outputs": [],
   "source": []
  },
  {
   "cell_type": "code",
   "execution_count": 0,
   "metadata": {
    "application/vnd.databricks.v1+cell": {
     "cellMetadata": {},
     "inputWidgets": {},
     "nuid": "477de7c1-fc0f-4c64-abba-77fc7203e8bc",
     "showTitle": false,
     "title": ""
    }
   },
   "outputs": [],
   "source": [
    "##simliarly we can check other varibales"
   ]
  },
  {
   "cell_type": "code",
   "execution_count": 0,
   "metadata": {
    "application/vnd.databricks.v1+cell": {
     "cellMetadata": {},
     "inputWidgets": {},
     "nuid": "7c75355f-2037-4d15-b619-22b5ebec9251",
     "showTitle": false,
     "title": ""
    }
   },
   "outputs": [],
   "source": [
    "# Data Preprocessing\n",
    "##check datatypes of the columns\n",
    "\n",
    "customer_churn.dtypes\n",
    "\n",
    "##total charge varibale id numeric but its type showning as Object.\n"
   ]
  },
  {
   "cell_type": "code",
   "execution_count": 0,
   "metadata": {
    "application/vnd.databricks.v1+cell": {
     "cellMetadata": {},
     "inputWidgets": {},
     "nuid": "bc0da856-0ace-443d-9b13-e71f04e3fc0b",
     "showTitle": false,
     "title": ""
    }
   },
   "outputs": [],
   "source": [
    "#Summary of data\n",
    "customer_churn.describe().transpose()\n"
   ]
  },
  {
   "cell_type": "code",
   "execution_count": 0,
   "metadata": {
    "application/vnd.databricks.v1+cell": {
     "cellMetadata": {},
     "inputWidgets": {},
     "nuid": "5f9e9001-4362-495e-ac28-668ad92dc4af",
     "showTitle": false,
     "title": ""
    }
   },
   "outputs": [],
   "source": [
    "# customer_churn['TotalCharges'] = customer_churn['TotalCharges'].astype(float)\n",
    "# customer_churn['TotalCharges'].isnull().count()\n",
    "## THERE IS some ISSUE WITH SOME records. Let convert the data into numerical vlaue\n",
    "\n",
    "\n",
    "\n",
    "##ERROR:could not convert string to float: \n",
    "\n"
   ]
  },
  {
   "cell_type": "code",
   "execution_count": 0,
   "metadata": {
    "application/vnd.databricks.v1+cell": {
     "cellMetadata": {},
     "inputWidgets": {},
     "nuid": "14fb52b0-9bc0-433a-97d3-f8f7f6bacf2b",
     "showTitle": false,
     "title": ""
    }
   },
   "outputs": [],
   "source": [
    "##covert string data into numerical and replace missing records with some values\n",
    "customer_churn['TotalCharges'] = pd.to_numeric(customer_churn['TotalCharges'],errors='coerce')\n",
    "customer_churn['TotalCharges'] = customer_churn['TotalCharges'].fillna(customer_churn['TotalCharges'].median())\n",
    "\n",
    "#Summary of data after replacing null values\n",
    "customer_churn.describe().transpose()"
   ]
  },
  {
   "cell_type": "code",
   "execution_count": 0,
   "metadata": {
    "application/vnd.databricks.v1+cell": {
     "cellMetadata": {},
     "inputWidgets": {},
     "nuid": "984769fd-9de2-4d7b-81f0-6e5be1da3ea4",
     "showTitle": false,
     "title": ""
    }
   },
   "outputs": [],
   "source": [
    "#we dont need customerID column. \n",
    "\n",
    "customer_churn.drop([\"customerID\"],axis=1)\n"
   ]
  },
  {
   "cell_type": "code",
   "execution_count": 0,
   "metadata": {
    "application/vnd.databricks.v1+cell": {
     "cellMetadata": {},
     "inputWidgets": {},
     "nuid": "8e602bef-71a0-4006-b385-27491e85d3fd",
     "showTitle": false,
     "title": ""
    }
   },
   "outputs": [],
   "source": [
    "# Covert categorical variables\n",
    "\n",
    "#Defining the convert function\n",
    "def convert(col):\n",
    "    return col.map({'Yes':1, 'No':0})\n",
    "\n",
    "list_col=['Churn','SeniorCitizen', 'Partner', 'Dependents', 'PhoneService', 'PaperlessBilling']\n",
    "list_col1=['MultipleLines','InternetService', 'OnlineSecurity', 'OnlineBackup', 'DeviceProtection', \n",
    "           'TechSupport','StreamingTV','StreamingMovies','Contract','PaymentMethod']\n",
    "customer_churn[list_col] = customer_churn[list_col].apply(convert)\n",
    "customer_churn['gender'] = customer_churn['gender'].map({'Male':1, 'Female':0})\n",
    "customer_churn['MultipleLines'] = pd.get_dummies(customer_churn['MultipleLines'], drop_first=True)\n",
    "customer_churn['InternetService'] = pd.get_dummies(customer_churn['InternetService'], drop_first=True)\n",
    "customer_churn['OnlineSecurity'] = pd.get_dummies(customer_churn['OnlineSecurity'], drop_first=True)\n",
    "customer_churn['OnlineBackup'] = pd.get_dummies(customer_churn['OnlineBackup'], drop_first=True)\n",
    "customer_churn['DeviceProtection'] = pd.get_dummies(customer_churn['DeviceProtection'], drop_first=True)\n",
    "customer_churn['TechSupport'] = pd.get_dummies(customer_churn['TechSupport'], drop_first=True)\n",
    "customer_churn['StreamingTV'] = pd.get_dummies(customer_churn['StreamingTV'], drop_first=True)\n",
    "customer_churn['StreamingMovies'] = pd.get_dummies(customer_churn['StreamingMovies'], drop_first=True)\n",
    "customer_churn['Contract'] = pd.get_dummies(customer_churn['Contract'], drop_first=True)\n",
    "customer_churn['Contract'] = pd.get_dummies(customer_churn['Contract'], drop_first=True)\n",
    "customer_churn['PaymentMethod'] = pd.get_dummies(customer_churn['PaymentMethod'], drop_first=True)\n",
    "customer_churn"
   ]
  },
  {
   "cell_type": "code",
   "execution_count": 0,
   "metadata": {
    "application/vnd.databricks.v1+cell": {
     "cellMetadata": {},
     "inputWidgets": {},
     "nuid": "6bed0b11-f485-4694-a156-a3abf1372935",
     "showTitle": false,
     "title": ""
    }
   },
   "outputs": [],
   "source": [
    "from sklearn.linear_model import LogisticRegression\n",
    "from sklearn.metrics import accuracy_score, precision_score,recall_score, f1_score\n",
    "\n",
    "#Split data into train and test sets\n",
    "from sklearn.model_selection import train_test_split\n",
    "X = customer_churn.drop('Churn', axis=1)\n",
    "X = X.drop('customerID', axis=1)\n",
    "y = customer_churn['Churn']\n",
    "X_train, X_test, y_train, y_test = train_test_split(X, y, test_size=0.3, random_state=50)\n",
    "model = LogisticRegression()\n",
    "print(\"model: \",model)\n",
    "model.fit(X_train, y_train)\n",
    "y_pred = model.predict(X_test)\n",
    "acc_score = accuracy_score(y_test, y_pred)\n",
    "acc_score\n",
    "print(\"accuracy: \",acc_score)\n",
    "pre_score = precision_score(y_test, y_pred)\n",
    "print(\"precision: \",pre_score)\n",
    "rec_score = recall_score(y_test, y_pred)                            \n",
    "print(\"recall: \",rec_score)\n",
    "y_act_list=y_test.tolist()\n",
    "y_pred_list=y_pred.tolist()"
   ]
  },
  {
   "cell_type": "code",
   "execution_count": 0,
   "metadata": {
    "application/vnd.databricks.v1+cell": {
     "cellMetadata": {},
     "inputWidgets": {},
     "nuid": "cd659e77-f586-4b00-9129-a88f0f1957e6",
     "showTitle": false,
     "title": ""
    },
    "collapsed": true
   },
   "outputs": [],
   "source": [
    "##Accuracy of the model is around 79% which is good \n",
    "##which means that if there are 100 records then 79 records are classified correctly.\n",
    "\n",
    "##Precision of the model is around 60% which is good\n",
    "##which means that if there are 50 records out of 100  are positive in the data and  then around 30 records are classified correctly as positive."
   ]
  },
  {
   "cell_type": "code",
   "execution_count": 0,
   "metadata": {
    "application/vnd.databricks.v1+cell": {
     "cellMetadata": {},
     "inputWidgets": {},
     "nuid": "3870024a-15de-47b9-946d-8b8ca04a3bed",
     "showTitle": false,
     "title": ""
    },
    "collapsed": true
   },
   "outputs": [],
   "source": []
  },
  {
   "cell_type": "code",
   "execution_count": 0,
   "metadata": {
    "application/vnd.databricks.v1+cell": {
     "cellMetadata": {},
     "inputWidgets": {},
     "nuid": "bb99a2a5-6b0f-4ae2-96a4-09147fc52de5",
     "showTitle": false,
     "title": ""
    },
    "collapsed": true
   },
   "outputs": [],
   "source": []
  },
  {
   "cell_type": "code",
   "execution_count": 0,
   "metadata": {
    "application/vnd.databricks.v1+cell": {
     "cellMetadata": {},
     "inputWidgets": {},
     "nuid": "0a0c8072-8f65-498e-be1a-ee326ea21d02",
     "showTitle": false,
     "title": ""
    }
   },
   "outputs": [],
   "source": [
    "\n",
    "# df1 = pd.DataFrame(y_act_list, columns=['y_Actual'])\n",
    "# df2 = pd.DataFrame(y_pred_list, columns=['y_Predicted'])\n",
    "# frames = [df1, df2]\n",
    "# df = pd.concat(frames)\n",
    "# df\n",
    "# confusion_matrix = pd.crosstab(df['y_Actual'], df['y_Predicted'], rownames=['Actual'], colnames=['Predicted'])\n",
    "# print (confusion_matrix)"
   ]
  }
 ],
 "metadata": {
  "application/vnd.databricks.v1+notebook": {
   "dashboards": [],
   "language": "python",
   "notebookMetadata": {
    "pythonIndentUnit": 4
   },
   "notebookName": "Megha_Patil_Test_checks",
   "widgets": {}
  },
  "kernelspec": {
   "display_name": "Python 3",
   "language": "python",
   "name": "python3"
  },
  "language_info": {
   "codemirror_mode": {
    "name": "ipython",
    "version": 3
   },
   "file_extension": ".py",
   "mimetype": "text/x-python",
   "name": "python",
   "nbconvert_exporter": "python",
   "pygments_lexer": "ipython3",
   "version": "3.6.1"
  }
 },
 "nbformat": 4,
 "nbformat_minor": 0
}
